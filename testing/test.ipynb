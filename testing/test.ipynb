{
 "cells": [
  {
   "cell_type": "code",
   "execution_count": 6,
   "metadata": {
    "collapsed": false
   },
   "outputs": [
    {
     "name": "stdout",
     "output_type": "stream",
     "text": [
      "\n",
      "\n",
      "\n",
      "######################################################\n",
      "\n",
      "CURRENT SCRIPT:\n",
      "C:\\Users\\Nathan\\Dropbox\\GitHub\\cryption\\scripts\\X_Header.pyc\n",
      "\n",
      "INPUT FOLDERS:\n",
      "C:/Users/Nathan/Dropbox/GitHub/cryption/inputs\n",
      "\n",
      "OUTPUT FOLDERS:\n",
      "C:/Users/Nathan/Dropbox/GitHub/cryption/outputs\n",
      "\n",
      "######################################################\n",
      "\n"
     ]
    }
   ],
   "source": [
    "#!/usr/bin/python\n",
    "\n",
    "# SET I/O\n",
    "inputs = {'cryption' : 'C:/Users/Nathan/Dropbox/GitHub/cryption/inputs'}\n",
    "outputs = {'cryption' : 'C:/Users/Nathan/Dropbox/GitHub/cryption/outputs'}\n",
    "\n",
    "# LIBRARIES\n",
    "import os\n",
    "os.chdir(\"C:/Users/Nathan/Dropbox/GitHub/cryption/scripts\")\n",
    "from X_Imports import *\n",
    "script = str(os.path.realpath(__file__)) if '__file__' in globals() else 'Current Script Unknown'\n",
    "header.scriptsummary(script, inputs, outputs)\n",
    "pd.options.mode.chained_assignment = None\n",
    "#####################################################################################################\n",
    "\n",
    "# PARAMS\n",
    "\n",
    "# READ FILE\n",
    "fn = 'input.txt'\n",
    "path = inputs['cryption'] + '/' + fn\n",
    "i = open(path, 'r')\n",
    "\n",
    "# ENCRYPTION\n",
    "unencrypted_string = i.read()\n",
    "unencrypted_list = list(unencrypted_string)\n",
    "\n",
    "encrypted_list = unencrypted_list\n",
    "encrypted_string = str(''.join(encrypted_list))\n",
    "\n",
    "# WRITE FILE\n",
    "fn = 'encrypted.txt'\n",
    "path = outputs['cryption'] + '/' + fn\n",
    "o = open(path, 'w')\n",
    "o.write(encrypted_string)\n",
    "\n",
    "i.close()\n",
    "o.close()"
   ]
  },
  {
   "cell_type": "code",
   "execution_count": 7,
   "metadata": {
    "collapsed": false
   },
   "outputs": [
    {
     "data": {
      "text/plain": [
       "'the quick brown fox jumped over the lazy dog\\nTHE QUICK BROWN FOX JUMPED OVER THE LAZY DOG\\n1234567890\\n`~-=_+[]\\\\{}|;\\':\",./<>?'"
      ]
     },
     "execution_count": 7,
     "metadata": {},
     "output_type": "execute_result"
    }
   ],
   "source": [
    "encrypted_string"
   ]
  }
 ],
 "metadata": {
  "kernelspec": {
   "display_name": "Python 2",
   "language": "python",
   "name": "python2"
  },
  "language_info": {
   "codemirror_mode": {
    "name": "ipython",
    "version": 2
   },
   "file_extension": ".py",
   "mimetype": "text/x-python",
   "name": "python",
   "nbconvert_exporter": "python",
   "pygments_lexer": "ipython2",
   "version": "2.7.7"
  }
 },
 "nbformat": 4,
 "nbformat_minor": 0
}
