{
 "cells": [
  {
   "cell_type": "code",
   "execution_count": 4,
   "metadata": {
    "collapsed": false,
    "scrolled": false
   },
   "outputs": [
    {
     "name": "stdout",
     "output_type": "stream",
     "text": [
      "\n",
      "\n",
      "\n",
      "######################################################\n",
      "\n",
      "CURRENT SCRIPT:\n",
      "C:\\Users\\Nathan\\Dropbox\\GitHub\\cryption\\scripts\\X_Header.pyc\n",
      "\n",
      "INPUT FOLDERS:\n",
      "C:/Users/Nathan/Dropbox/GitHub/cryption/inputs\n",
      "\n",
      "OUTPUT FOLDERS:\n",
      "C:/Users/Nathan/Dropbox/GitHub/cryption/outputs\n",
      "\n",
      "######################################################\n",
      "\n",
      "We the people of the United States, in order to form a more perfect union, establish justice, insure domestic tranquility, provide for the common defense, promote the general welfare, and secure the blessings of liberty to ourselves and our posterity, do ordain and establish this Constitution for the United States of America.\n"
     ]
    }
   ],
   "source": [
    "#!/usr/bin/python\n",
    "\n",
    "# SET I/O\n",
    "inputs = {'cryption' : 'C:/Users/Nathan/Dropbox/GitHub/cryption/inputs'}\n",
    "outputs = {'cryption' : 'C:/Users/Nathan/Dropbox/GitHub/cryption/outputs'}\n",
    "\n",
    "# LIBRARIES\n",
    "import os\n",
    "os.chdir(\"C:/Users/Nathan/Dropbox/GitHub/cryption/scripts\")\n",
    "from X_Imports import *\n",
    "script = str(os.path.realpath(__file__)) if '__file__' in globals() else 'Current Script Unknown'\n",
    "header.scriptsummary(script, inputs, outputs)\n",
    "pd.options.mode.chained_assignment = None\n",
    "#####################################################################################################\n",
    "\n",
    "# PARAMS\n",
    "key = -6\n",
    "preserve = ['\\n']\n",
    "sendtofile = False\n",
    "inputstring = ''\n",
    "\n",
    "# READ FILE\n",
    "if (inputstring == ''):\n",
    "    fn = 'input.txt'\n",
    "    path = inputs['cryption'] + '/' + fn\n",
    "    i = open(path, 'r')\n",
    "    unencrypted_string = i.read()\n",
    "    i.close()\n",
    "else:\n",
    "    unencrypted_string = inputstring\n",
    "\n",
    "# TURN TO LIST\n",
    "unencrypted_list = list(unencrypted_string)\n",
    "\n",
    "# ACTUAL ENCRYPTION\n",
    "nl = []\n",
    "for c in unencrypted_list:\n",
    "    if (c in preserve):\n",
    "        nl.append(c)\n",
    "    else:\n",
    "        nc = ord(c)+key\n",
    "        nc = unichr(nc)\n",
    "        nl.append(nc)\n",
    "\n",
    "# TURN TO STRING\n",
    "encrypted_list = nl\n",
    "encrypted_string = str(''.join(encrypted_list))\n",
    "\n",
    "# WRITE FILE\n",
    "if (sendtofile):\n",
    "    fn = 'ue_' + fn\n",
    "    path = outputs['cryption'] + '/' + fn\n",
    "    o = open(path, 'w')\n",
    "    o.write(encrypted_string)\n",
    "    o.close()\n",
    "else:\n",
    "    print(encrypted_string)"
   ]
  },
  {
   "cell_type": "code",
   "execution_count": 13,
   "metadata": {
    "collapsed": false
   },
   "outputs": [
    {
     "data": {
      "text/plain": [
       "10"
      ]
     },
     "execution_count": 13,
     "metadata": {},
     "output_type": "execute_result"
    }
   ],
   "source": [
    "ord('\\n')"
   ]
  },
  {
   "cell_type": "code",
   "execution_count": 15,
   "metadata": {
    "collapsed": false
   },
   "outputs": [
    {
     "data": {
      "text/plain": [
       "u'\\x0b'"
      ]
     },
     "execution_count": 15,
     "metadata": {},
     "output_type": "execute_result"
    }
   ],
   "source": [
    "unichr(11)"
   ]
  },
  {
   "cell_type": "code",
   "execution_count": 10,
   "metadata": {
    "collapsed": false
   },
   "outputs": [
    {
     "data": {
      "text/plain": [
       "[u'u',\n",
       " u'i',\n",
       " u'f',\n",
       " u'!',\n",
       " u'r',\n",
       " u'v',\n",
       " u'j',\n",
       " u'd',\n",
       " u'l',\n",
       " u'!',\n",
       " u'c',\n",
       " u's',\n",
       " u'p',\n",
       " u'x',\n",
       " u'o',\n",
       " u'!',\n",
       " u'g',\n",
       " u'p',\n",
       " u'y',\n",
       " u'!',\n",
       " u'k',\n",
       " u'v',\n",
       " u'n',\n",
       " u'q',\n",
       " u'f',\n",
       " u'e',\n",
       " u'!',\n",
       " u'p',\n",
       " u'w',\n",
       " u'f',\n",
       " u's',\n",
       " u'!',\n",
       " u'u',\n",
       " u'i',\n",
       " u'f',\n",
       " u'!',\n",
       " u'm',\n",
       " u'b',\n",
       " u'{',\n",
       " u'z',\n",
       " u'!',\n",
       " u'e',\n",
       " u'p',\n",
       " u'h',\n",
       " u'\\x0b',\n",
       " u'U',\n",
       " u'I',\n",
       " u'F',\n",
       " u'!',\n",
       " u'R',\n",
       " u'V',\n",
       " u'J',\n",
       " u'D',\n",
       " u'L',\n",
       " u'!',\n",
       " u'C',\n",
       " u'S',\n",
       " u'P',\n",
       " u'X',\n",
       " u'O',\n",
       " u'!',\n",
       " u'G',\n",
       " u'P',\n",
       " u'Y',\n",
       " u'!',\n",
       " u'K',\n",
       " u'V',\n",
       " u'N',\n",
       " u'Q',\n",
       " u'F',\n",
       " u'E',\n",
       " u'!',\n",
       " u'P',\n",
       " u'W',\n",
       " u'F',\n",
       " u'S',\n",
       " u'!',\n",
       " u'U',\n",
       " u'I',\n",
       " u'F',\n",
       " u'!',\n",
       " u'M',\n",
       " u'B',\n",
       " u'[',\n",
       " u'Z',\n",
       " u'!',\n",
       " u'E',\n",
       " u'P',\n",
       " u'H',\n",
       " u'\\x0b',\n",
       " u'2',\n",
       " u'3',\n",
       " u'4',\n",
       " u'5',\n",
       " u'6',\n",
       " u'7',\n",
       " u'8',\n",
       " u'9',\n",
       " u':',\n",
       " u'1',\n",
       " u'\\x0b',\n",
       " u'a',\n",
       " u'\\x7f',\n",
       " u'.',\n",
       " u'>',\n",
       " u'`',\n",
       " u',',\n",
       " u'\\\\',\n",
       " u'^',\n",
       " u']',\n",
       " u'|',\n",
       " u'~',\n",
       " u'}',\n",
       " u'<',\n",
       " u'(',\n",
       " u';',\n",
       " u'#',\n",
       " u'-',\n",
       " u'/',\n",
       " u'0',\n",
       " u'=',\n",
       " u'?',\n",
       " u'@']"
      ]
     },
     "execution_count": 10,
     "metadata": {},
     "output_type": "execute_result"
    }
   ],
   "source": [
    "nl"
   ]
  }
 ],
 "metadata": {
  "kernelspec": {
   "display_name": "Python 2",
   "language": "python",
   "name": "python2"
  },
  "language_info": {
   "codemirror_mode": {
    "name": "ipython",
    "version": 2
   },
   "file_extension": ".py",
   "mimetype": "text/x-python",
   "name": "python",
   "nbconvert_exporter": "python",
   "pygments_lexer": "ipython2",
   "version": "2.7.7"
  }
 },
 "nbformat": 4,
 "nbformat_minor": 0
}
